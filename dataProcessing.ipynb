{
 "cells": [
  {
   "cell_type": "markdown",
   "metadata": {},
   "source": [
    "# Data on ion-exchange membrane fouling by humic acid during electrodialysis"
   ]
  },
  {
   "cell_type": "markdown",
   "metadata": {
    "ExecuteTime": {
     "end_time": "2019-11-28T10:38:19.391864Z",
     "start_time": "2019-11-28T10:38:19.382086Z"
    }
   },
   "source": [
    "Bram De Jaegher <sup>a,b,c,∗</sup>, Eneko Larumbe <sup>c</sup>, Wim De Schepper<sup>c</sup>, Arne Verliefde<sup>b</sup>, Ingmar Nopens<sup>a</sup>\n",
    "\n",
    "<sup>a</sup> BIOMATH, Department of Data Analysis and Mathematical Modelling, Ghent University, Coupure links 653, 9000 Ghent, Belgium\n",
    "\n",
    "<sup>b</sup> PaInT, Department of Green chemistry and Technology, Ghent University, Coupure links 653, 9000 Ghent, Belgium\n",
    "\n",
    "<sup>c</sup> Flemish Institute for Technological Research (VITO), Boeretang 200, 2400 Mol, Belgium\n",
    "\n",
    "*Corresponding author(s)*\n",
    "\n",
    "<sup>*</sup>Bram De Jaegher (<a href=\"mailto:Bram.DeJaegher@UGent.be\">Bram.DeJaegher@UGent.be </a>) – Coupure links 653, 9000 Ghent, Belgium\n",
    "\n",
    "**Cite this work as:**\n",
    "> De Jaegher, B., Larumbe, E., De Schepper, W., Verliefde, A., & Nopens, I. (2020). Data on ion-exchange membrane fouling by humic acid during electrodialysis. Data in Brief, 31, 105763. [doi:10.1016/j.dib.2020.105763](\n",
    "https://doi.org/10.1016/j.dib.2020.105763)\n"
   ]
  },
  {
   "cell_type": "markdown",
   "metadata": {},
   "source": [
    "##  What is this data?"
   ]
  },
  {
   "cell_type": "markdown",
   "metadata": {},
   "source": [
    "This data paper aims to provide data on the effect of the process settings on the fouling of an electrodialysis pilot installation treating a sodium chloride solution in the presence of humic acid. This data was used by “Colloidal fouling in electrodialysis: a neural differential equations model” [1] to construct a predictive model and provides interpretive insights into this dataset. During the experiments, the electrical resistance over the electrodialysis stack was monitored while varying the crossflow velocity in the compartments, the current applied to the stack and the salt concentration in the incoming stream. The active cycle was maintained for a maximum of 1.5h after which the polarity was reversed to remove the fouling layer and clean the pilot. Additional data is gathered such as the temperature, pH, flow rate, conductivity, pressure in the different compartments of the electrodialysis stack. The data is processed to remove the effect of temperature fluctuations and some filtering is performed. To maximise the reuse potential of this dataset, both raw and processed data are provided along with a detailed description of the pilot installation and sensor locations. The data generated can be useful for researchers and industry working on electrodialysis fouling and the modelling thereof. The availability of conductivity and pH in all compartments is useful to investigate secondary effects of humic acid fouling such as the eventual decrease in membrane permselectivity or water splitting effects introduced by the fouling layer."
   ]
  },
  {
   "cell_type": "markdown",
   "metadata": {},
   "source": [
    "## How is the data acquired?\n",
    "\n"
   ]
  },
  {
   "cell_type": "markdown",
   "metadata": {},
   "source": [
    "The data consist of time series of an electrodialysis pilot installation that processes a sodium chloride solution with humic acid and is subject to fouling.  Each of the experiments is performed at a different crossflow velocity, applied current and the salt concentration in the fouling solution, following an experimental design. Different inline sensors monitor the state of the ED pilot;\n",
    "\n",
    "*\tElectric potential (M 3000 - Delta electronika, the Netherlands)\n",
    "*\tConductivity & temperature (Indumax CLS50D - Endress + Hauser, USA)\n",
    "*\tFlow rate (Promag 55S DN15 - Endress + Hauser, USA)\n",
    "*\tpH (Orbisint CPS11D - Endress + Hauser, USA)\n",
    "*\tPressure (Cerabar MPMC51 – Endress + Hauser, USA)"
   ]
  },
  {
   "cell_type": "markdown",
   "metadata": {},
   "source": [
    "## Reading raw data"
   ]
  },
  {
   "cell_type": "code",
   "execution_count": 4,
   "metadata": {
    "ExecuteTime": {
     "end_time": "2020-05-29T12:35:08.954570Z",
     "start_time": "2020-05-29T12:35:08.935456Z"
    }
   },
   "outputs": [],
   "source": [
    "import pandas as pd\n",
    "import seaborn as sns\n",
    "import matplotlib.pyplot as plt\n",
    "import numpy as np\n",
    "%matplotlib inline\n",
    "\n",
    "sns.set(style=\"ticks\",font_scale=1.5)"
   ]
  },
  {
   "cell_type": "code",
   "execution_count": 5,
   "metadata": {
    "ExecuteTime": {
     "end_time": "2020-05-29T12:35:09.354034Z",
     "start_time": "2020-05-29T12:35:09.347902Z"
    }
   },
   "outputs": [],
   "source": [
    "figPath = \"figs/\""
   ]
  },
  {
   "cell_type": "markdown",
   "metadata": {},
   "source": [
    "Get data from zenodo "
   ]
  },
  {
   "cell_type": "code",
   "execution_count": 6,
   "metadata": {
    "ExecuteTime": {
     "end_time": "2020-05-29T12:35:10.556531Z",
     "start_time": "2020-05-29T12:35:10.522530Z"
    }
   },
   "outputs": [
    {
     "ename": "URLError",
     "evalue": "<urlopen error [Errno -3] Temporary failure in name resolution>",
     "output_type": "error",
     "traceback": [
      "\u001b[0;31m---------------------------------------------------------------------------\u001b[0m",
      "\u001b[0;31mgaierror\u001b[0m                                  Traceback (most recent call last)",
      "\u001b[0;32m~/anaconda3/envs/pyFOAM/lib/python3.6/urllib/request.py\u001b[0m in \u001b[0;36mdo_open\u001b[0;34m(self, http_class, req, **http_conn_args)\u001b[0m\n\u001b[1;32m   1317\u001b[0m                 h.request(req.get_method(), req.selector, req.data, headers,\n\u001b[0;32m-> 1318\u001b[0;31m                           encode_chunked=req.has_header('Transfer-encoding'))\n\u001b[0m\u001b[1;32m   1319\u001b[0m             \u001b[0;32mexcept\u001b[0m \u001b[0mOSError\u001b[0m \u001b[0;32mas\u001b[0m \u001b[0merr\u001b[0m\u001b[0;34m:\u001b[0m \u001b[0;31m# timeout error\u001b[0m\u001b[0;34m\u001b[0m\u001b[0m\n",
      "\u001b[0;32m~/anaconda3/envs/pyFOAM/lib/python3.6/http/client.py\u001b[0m in \u001b[0;36mrequest\u001b[0;34m(self, method, url, body, headers, encode_chunked)\u001b[0m\n\u001b[1;32m   1238\u001b[0m         \u001b[0;34m\"\"\"Send a complete request to the server.\"\"\"\u001b[0m\u001b[0;34m\u001b[0m\u001b[0m\n\u001b[0;32m-> 1239\u001b[0;31m         \u001b[0mself\u001b[0m\u001b[0;34m.\u001b[0m\u001b[0m_send_request\u001b[0m\u001b[0;34m(\u001b[0m\u001b[0mmethod\u001b[0m\u001b[0;34m,\u001b[0m \u001b[0murl\u001b[0m\u001b[0;34m,\u001b[0m \u001b[0mbody\u001b[0m\u001b[0;34m,\u001b[0m \u001b[0mheaders\u001b[0m\u001b[0;34m,\u001b[0m \u001b[0mencode_chunked\u001b[0m\u001b[0;34m)\u001b[0m\u001b[0;34m\u001b[0m\u001b[0m\n\u001b[0m\u001b[1;32m   1240\u001b[0m \u001b[0;34m\u001b[0m\u001b[0m\n",
      "\u001b[0;32m~/anaconda3/envs/pyFOAM/lib/python3.6/http/client.py\u001b[0m in \u001b[0;36m_send_request\u001b[0;34m(self, method, url, body, headers, encode_chunked)\u001b[0m\n\u001b[1;32m   1284\u001b[0m             \u001b[0mbody\u001b[0m \u001b[0;34m=\u001b[0m \u001b[0m_encode\u001b[0m\u001b[0;34m(\u001b[0m\u001b[0mbody\u001b[0m\u001b[0;34m,\u001b[0m \u001b[0;34m'body'\u001b[0m\u001b[0;34m)\u001b[0m\u001b[0;34m\u001b[0m\u001b[0m\n\u001b[0;32m-> 1285\u001b[0;31m         \u001b[0mself\u001b[0m\u001b[0;34m.\u001b[0m\u001b[0mendheaders\u001b[0m\u001b[0;34m(\u001b[0m\u001b[0mbody\u001b[0m\u001b[0;34m,\u001b[0m \u001b[0mencode_chunked\u001b[0m\u001b[0;34m=\u001b[0m\u001b[0mencode_chunked\u001b[0m\u001b[0;34m)\u001b[0m\u001b[0;34m\u001b[0m\u001b[0m\n\u001b[0m\u001b[1;32m   1286\u001b[0m \u001b[0;34m\u001b[0m\u001b[0m\n",
      "\u001b[0;32m~/anaconda3/envs/pyFOAM/lib/python3.6/http/client.py\u001b[0m in \u001b[0;36mendheaders\u001b[0;34m(self, message_body, encode_chunked)\u001b[0m\n\u001b[1;32m   1233\u001b[0m             \u001b[0;32mraise\u001b[0m \u001b[0mCannotSendHeader\u001b[0m\u001b[0;34m(\u001b[0m\u001b[0;34m)\u001b[0m\u001b[0;34m\u001b[0m\u001b[0m\n\u001b[0;32m-> 1234\u001b[0;31m         \u001b[0mself\u001b[0m\u001b[0;34m.\u001b[0m\u001b[0m_send_output\u001b[0m\u001b[0;34m(\u001b[0m\u001b[0mmessage_body\u001b[0m\u001b[0;34m,\u001b[0m \u001b[0mencode_chunked\u001b[0m\u001b[0;34m=\u001b[0m\u001b[0mencode_chunked\u001b[0m\u001b[0;34m)\u001b[0m\u001b[0;34m\u001b[0m\u001b[0m\n\u001b[0m\u001b[1;32m   1235\u001b[0m \u001b[0;34m\u001b[0m\u001b[0m\n",
      "\u001b[0;32m~/anaconda3/envs/pyFOAM/lib/python3.6/http/client.py\u001b[0m in \u001b[0;36m_send_output\u001b[0;34m(self, message_body, encode_chunked)\u001b[0m\n\u001b[1;32m   1025\u001b[0m         \u001b[0;32mdel\u001b[0m \u001b[0mself\u001b[0m\u001b[0;34m.\u001b[0m\u001b[0m_buffer\u001b[0m\u001b[0;34m[\u001b[0m\u001b[0;34m:\u001b[0m\u001b[0;34m]\u001b[0m\u001b[0;34m\u001b[0m\u001b[0m\n\u001b[0;32m-> 1026\u001b[0;31m         \u001b[0mself\u001b[0m\u001b[0;34m.\u001b[0m\u001b[0msend\u001b[0m\u001b[0;34m(\u001b[0m\u001b[0mmsg\u001b[0m\u001b[0;34m)\u001b[0m\u001b[0;34m\u001b[0m\u001b[0m\n\u001b[0m\u001b[1;32m   1027\u001b[0m \u001b[0;34m\u001b[0m\u001b[0m\n",
      "\u001b[0;32m~/anaconda3/envs/pyFOAM/lib/python3.6/http/client.py\u001b[0m in \u001b[0;36msend\u001b[0;34m(self, data)\u001b[0m\n\u001b[1;32m    963\u001b[0m             \u001b[0;32mif\u001b[0m \u001b[0mself\u001b[0m\u001b[0;34m.\u001b[0m\u001b[0mauto_open\u001b[0m\u001b[0;34m:\u001b[0m\u001b[0;34m\u001b[0m\u001b[0m\n\u001b[0;32m--> 964\u001b[0;31m                 \u001b[0mself\u001b[0m\u001b[0;34m.\u001b[0m\u001b[0mconnect\u001b[0m\u001b[0;34m(\u001b[0m\u001b[0;34m)\u001b[0m\u001b[0;34m\u001b[0m\u001b[0m\n\u001b[0m\u001b[1;32m    965\u001b[0m             \u001b[0;32melse\u001b[0m\u001b[0;34m:\u001b[0m\u001b[0;34m\u001b[0m\u001b[0m\n",
      "\u001b[0;32m~/anaconda3/envs/pyFOAM/lib/python3.6/http/client.py\u001b[0m in \u001b[0;36mconnect\u001b[0;34m(self)\u001b[0m\n\u001b[1;32m   1391\u001b[0m \u001b[0;34m\u001b[0m\u001b[0m\n\u001b[0;32m-> 1392\u001b[0;31m             \u001b[0msuper\u001b[0m\u001b[0;34m(\u001b[0m\u001b[0;34m)\u001b[0m\u001b[0;34m.\u001b[0m\u001b[0mconnect\u001b[0m\u001b[0;34m(\u001b[0m\u001b[0;34m)\u001b[0m\u001b[0;34m\u001b[0m\u001b[0m\n\u001b[0m\u001b[1;32m   1393\u001b[0m \u001b[0;34m\u001b[0m\u001b[0m\n",
      "\u001b[0;32m~/anaconda3/envs/pyFOAM/lib/python3.6/http/client.py\u001b[0m in \u001b[0;36mconnect\u001b[0;34m(self)\u001b[0m\n\u001b[1;32m    935\u001b[0m         self.sock = self._create_connection(\n\u001b[0;32m--> 936\u001b[0;31m             (self.host,self.port), self.timeout, self.source_address)\n\u001b[0m\u001b[1;32m    937\u001b[0m         \u001b[0mself\u001b[0m\u001b[0;34m.\u001b[0m\u001b[0msock\u001b[0m\u001b[0;34m.\u001b[0m\u001b[0msetsockopt\u001b[0m\u001b[0;34m(\u001b[0m\u001b[0msocket\u001b[0m\u001b[0;34m.\u001b[0m\u001b[0mIPPROTO_TCP\u001b[0m\u001b[0;34m,\u001b[0m \u001b[0msocket\u001b[0m\u001b[0;34m.\u001b[0m\u001b[0mTCP_NODELAY\u001b[0m\u001b[0;34m,\u001b[0m \u001b[0;36m1\u001b[0m\u001b[0;34m)\u001b[0m\u001b[0;34m\u001b[0m\u001b[0m\n",
      "\u001b[0;32m~/anaconda3/envs/pyFOAM/lib/python3.6/socket.py\u001b[0m in \u001b[0;36mcreate_connection\u001b[0;34m(address, timeout, source_address)\u001b[0m\n\u001b[1;32m    703\u001b[0m     \u001b[0merr\u001b[0m \u001b[0;34m=\u001b[0m \u001b[0;32mNone\u001b[0m\u001b[0;34m\u001b[0m\u001b[0m\n\u001b[0;32m--> 704\u001b[0;31m     \u001b[0;32mfor\u001b[0m \u001b[0mres\u001b[0m \u001b[0;32min\u001b[0m \u001b[0mgetaddrinfo\u001b[0m\u001b[0;34m(\u001b[0m\u001b[0mhost\u001b[0m\u001b[0;34m,\u001b[0m \u001b[0mport\u001b[0m\u001b[0;34m,\u001b[0m \u001b[0;36m0\u001b[0m\u001b[0;34m,\u001b[0m \u001b[0mSOCK_STREAM\u001b[0m\u001b[0;34m)\u001b[0m\u001b[0;34m:\u001b[0m\u001b[0;34m\u001b[0m\u001b[0m\n\u001b[0m\u001b[1;32m    705\u001b[0m         \u001b[0maf\u001b[0m\u001b[0;34m,\u001b[0m \u001b[0msocktype\u001b[0m\u001b[0;34m,\u001b[0m \u001b[0mproto\u001b[0m\u001b[0;34m,\u001b[0m \u001b[0mcanonname\u001b[0m\u001b[0;34m,\u001b[0m \u001b[0msa\u001b[0m \u001b[0;34m=\u001b[0m \u001b[0mres\u001b[0m\u001b[0;34m\u001b[0m\u001b[0m\n",
      "\u001b[0;32m~/anaconda3/envs/pyFOAM/lib/python3.6/socket.py\u001b[0m in \u001b[0;36mgetaddrinfo\u001b[0;34m(host, port, family, type, proto, flags)\u001b[0m\n\u001b[1;32m    744\u001b[0m     \u001b[0maddrlist\u001b[0m \u001b[0;34m=\u001b[0m \u001b[0;34m[\u001b[0m\u001b[0;34m]\u001b[0m\u001b[0;34m\u001b[0m\u001b[0m\n\u001b[0;32m--> 745\u001b[0;31m     \u001b[0;32mfor\u001b[0m \u001b[0mres\u001b[0m \u001b[0;32min\u001b[0m \u001b[0m_socket\u001b[0m\u001b[0;34m.\u001b[0m\u001b[0mgetaddrinfo\u001b[0m\u001b[0;34m(\u001b[0m\u001b[0mhost\u001b[0m\u001b[0;34m,\u001b[0m \u001b[0mport\u001b[0m\u001b[0;34m,\u001b[0m \u001b[0mfamily\u001b[0m\u001b[0;34m,\u001b[0m \u001b[0mtype\u001b[0m\u001b[0;34m,\u001b[0m \u001b[0mproto\u001b[0m\u001b[0;34m,\u001b[0m \u001b[0mflags\u001b[0m\u001b[0;34m)\u001b[0m\u001b[0;34m:\u001b[0m\u001b[0;34m\u001b[0m\u001b[0m\n\u001b[0m\u001b[1;32m    746\u001b[0m         \u001b[0maf\u001b[0m\u001b[0;34m,\u001b[0m \u001b[0msocktype\u001b[0m\u001b[0;34m,\u001b[0m \u001b[0mproto\u001b[0m\u001b[0;34m,\u001b[0m \u001b[0mcanonname\u001b[0m\u001b[0;34m,\u001b[0m \u001b[0msa\u001b[0m \u001b[0;34m=\u001b[0m \u001b[0mres\u001b[0m\u001b[0;34m\u001b[0m\u001b[0m\n",
      "\u001b[0;31mgaierror\u001b[0m: [Errno -3] Temporary failure in name resolution",
      "\nDuring handling of the above exception, another exception occurred:\n",
      "\u001b[0;31mURLError\u001b[0m                                  Traceback (most recent call last)",
      "\u001b[0;32m<ipython-input-6-f8c9aa1f82c3>\u001b[0m in \u001b[0;36m<module>\u001b[0;34m()\u001b[0m\n\u001b[1;32m      1\u001b[0m \u001b[0murl\u001b[0m \u001b[0;34m=\u001b[0m \u001b[0;34m\"https://zenodo.org/record/3551928/files/dataRaw.csv\"\u001b[0m\u001b[0;34m\u001b[0m\u001b[0m\n\u001b[0;32m----> 2\u001b[0;31m \u001b[0mdataDF\u001b[0m \u001b[0;34m=\u001b[0m \u001b[0mpd\u001b[0m\u001b[0;34m.\u001b[0m\u001b[0mread_csv\u001b[0m\u001b[0;34m(\u001b[0m\u001b[0murl\u001b[0m\u001b[0;34m)\u001b[0m    \u001b[0;31m# read DOE\u001b[0m\u001b[0;34m\u001b[0m\u001b[0m\n\u001b[0m",
      "\u001b[0;32m~/anaconda3/envs/pyFOAM/lib/python3.6/site-packages/pandas/io/parsers.py\u001b[0m in \u001b[0;36mparser_f\u001b[0;34m(filepath_or_buffer, sep, delimiter, header, names, index_col, usecols, squeeze, prefix, mangle_dupe_cols, dtype, engine, converters, true_values, false_values, skipinitialspace, skiprows, nrows, na_values, keep_default_na, na_filter, verbose, skip_blank_lines, parse_dates, infer_datetime_format, keep_date_col, date_parser, dayfirst, iterator, chunksize, compression, thousands, decimal, lineterminator, quotechar, quoting, escapechar, comment, encoding, dialect, tupleize_cols, error_bad_lines, warn_bad_lines, skipfooter, skip_footer, doublequote, delim_whitespace, as_recarray, compact_ints, use_unsigned, low_memory, buffer_lines, memory_map, float_precision)\u001b[0m\n\u001b[1;32m    707\u001b[0m                     skip_blank_lines=skip_blank_lines)\n\u001b[1;32m    708\u001b[0m \u001b[0;34m\u001b[0m\u001b[0m\n\u001b[0;32m--> 709\u001b[0;31m         \u001b[0;32mreturn\u001b[0m \u001b[0m_read\u001b[0m\u001b[0;34m(\u001b[0m\u001b[0mfilepath_or_buffer\u001b[0m\u001b[0;34m,\u001b[0m \u001b[0mkwds\u001b[0m\u001b[0;34m)\u001b[0m\u001b[0;34m\u001b[0m\u001b[0m\n\u001b[0m\u001b[1;32m    710\u001b[0m \u001b[0;34m\u001b[0m\u001b[0m\n\u001b[1;32m    711\u001b[0m     \u001b[0mparser_f\u001b[0m\u001b[0;34m.\u001b[0m\u001b[0m__name__\u001b[0m \u001b[0;34m=\u001b[0m \u001b[0mname\u001b[0m\u001b[0;34m\u001b[0m\u001b[0m\n",
      "\u001b[0;32m~/anaconda3/envs/pyFOAM/lib/python3.6/site-packages/pandas/io/parsers.py\u001b[0m in \u001b[0;36m_read\u001b[0;34m(filepath_or_buffer, kwds)\u001b[0m\n\u001b[1;32m    431\u001b[0m     \u001b[0mcompression\u001b[0m \u001b[0;34m=\u001b[0m \u001b[0m_infer_compression\u001b[0m\u001b[0;34m(\u001b[0m\u001b[0mfilepath_or_buffer\u001b[0m\u001b[0;34m,\u001b[0m \u001b[0mcompression\u001b[0m\u001b[0;34m)\u001b[0m\u001b[0;34m\u001b[0m\u001b[0m\n\u001b[1;32m    432\u001b[0m     filepath_or_buffer, _, compression = get_filepath_or_buffer(\n\u001b[0;32m--> 433\u001b[0;31m         filepath_or_buffer, encoding, compression)\n\u001b[0m\u001b[1;32m    434\u001b[0m     \u001b[0mkwds\u001b[0m\u001b[0;34m[\u001b[0m\u001b[0;34m'compression'\u001b[0m\u001b[0;34m]\u001b[0m \u001b[0;34m=\u001b[0m \u001b[0mcompression\u001b[0m\u001b[0;34m\u001b[0m\u001b[0m\n\u001b[1;32m    435\u001b[0m \u001b[0;34m\u001b[0m\u001b[0m\n",
      "\u001b[0;32m~/anaconda3/envs/pyFOAM/lib/python3.6/site-packages/pandas/io/common.py\u001b[0m in \u001b[0;36mget_filepath_or_buffer\u001b[0;34m(filepath_or_buffer, encoding, compression)\u001b[0m\n\u001b[1;32m    188\u001b[0m \u001b[0;34m\u001b[0m\u001b[0m\n\u001b[1;32m    189\u001b[0m     \u001b[0;32mif\u001b[0m \u001b[0m_is_url\u001b[0m\u001b[0;34m(\u001b[0m\u001b[0mfilepath_or_buffer\u001b[0m\u001b[0;34m)\u001b[0m\u001b[0;34m:\u001b[0m\u001b[0;34m\u001b[0m\u001b[0m\n\u001b[0;32m--> 190\u001b[0;31m         \u001b[0mreq\u001b[0m \u001b[0;34m=\u001b[0m \u001b[0m_urlopen\u001b[0m\u001b[0;34m(\u001b[0m\u001b[0mfilepath_or_buffer\u001b[0m\u001b[0;34m)\u001b[0m\u001b[0;34m\u001b[0m\u001b[0m\n\u001b[0m\u001b[1;32m    191\u001b[0m         \u001b[0mcontent_encoding\u001b[0m \u001b[0;34m=\u001b[0m \u001b[0mreq\u001b[0m\u001b[0;34m.\u001b[0m\u001b[0mheaders\u001b[0m\u001b[0;34m.\u001b[0m\u001b[0mget\u001b[0m\u001b[0;34m(\u001b[0m\u001b[0;34m'Content-Encoding'\u001b[0m\u001b[0;34m,\u001b[0m \u001b[0;32mNone\u001b[0m\u001b[0;34m)\u001b[0m\u001b[0;34m\u001b[0m\u001b[0m\n\u001b[1;32m    192\u001b[0m         \u001b[0;32mif\u001b[0m \u001b[0mcontent_encoding\u001b[0m \u001b[0;34m==\u001b[0m \u001b[0;34m'gzip'\u001b[0m\u001b[0;34m:\u001b[0m\u001b[0;34m\u001b[0m\u001b[0m\n",
      "\u001b[0;32m~/anaconda3/envs/pyFOAM/lib/python3.6/urllib/request.py\u001b[0m in \u001b[0;36murlopen\u001b[0;34m(url, data, timeout, cafile, capath, cadefault, context)\u001b[0m\n\u001b[1;32m    221\u001b[0m     \u001b[0;32melse\u001b[0m\u001b[0;34m:\u001b[0m\u001b[0;34m\u001b[0m\u001b[0m\n\u001b[1;32m    222\u001b[0m         \u001b[0mopener\u001b[0m \u001b[0;34m=\u001b[0m \u001b[0m_opener\u001b[0m\u001b[0;34m\u001b[0m\u001b[0m\n\u001b[0;32m--> 223\u001b[0;31m     \u001b[0;32mreturn\u001b[0m \u001b[0mopener\u001b[0m\u001b[0;34m.\u001b[0m\u001b[0mopen\u001b[0m\u001b[0;34m(\u001b[0m\u001b[0murl\u001b[0m\u001b[0;34m,\u001b[0m \u001b[0mdata\u001b[0m\u001b[0;34m,\u001b[0m \u001b[0mtimeout\u001b[0m\u001b[0;34m)\u001b[0m\u001b[0;34m\u001b[0m\u001b[0m\n\u001b[0m\u001b[1;32m    224\u001b[0m \u001b[0;34m\u001b[0m\u001b[0m\n\u001b[1;32m    225\u001b[0m \u001b[0;32mdef\u001b[0m \u001b[0minstall_opener\u001b[0m\u001b[0;34m(\u001b[0m\u001b[0mopener\u001b[0m\u001b[0;34m)\u001b[0m\u001b[0;34m:\u001b[0m\u001b[0;34m\u001b[0m\u001b[0m\n",
      "\u001b[0;32m~/anaconda3/envs/pyFOAM/lib/python3.6/urllib/request.py\u001b[0m in \u001b[0;36mopen\u001b[0;34m(self, fullurl, data, timeout)\u001b[0m\n\u001b[1;32m    524\u001b[0m             \u001b[0mreq\u001b[0m \u001b[0;34m=\u001b[0m \u001b[0mmeth\u001b[0m\u001b[0;34m(\u001b[0m\u001b[0mreq\u001b[0m\u001b[0;34m)\u001b[0m\u001b[0;34m\u001b[0m\u001b[0m\n\u001b[1;32m    525\u001b[0m \u001b[0;34m\u001b[0m\u001b[0m\n\u001b[0;32m--> 526\u001b[0;31m         \u001b[0mresponse\u001b[0m \u001b[0;34m=\u001b[0m \u001b[0mself\u001b[0m\u001b[0;34m.\u001b[0m\u001b[0m_open\u001b[0m\u001b[0;34m(\u001b[0m\u001b[0mreq\u001b[0m\u001b[0;34m,\u001b[0m \u001b[0mdata\u001b[0m\u001b[0;34m)\u001b[0m\u001b[0;34m\u001b[0m\u001b[0m\n\u001b[0m\u001b[1;32m    527\u001b[0m \u001b[0;34m\u001b[0m\u001b[0m\n\u001b[1;32m    528\u001b[0m         \u001b[0;31m# post-process response\u001b[0m\u001b[0;34m\u001b[0m\u001b[0;34m\u001b[0m\u001b[0m\n",
      "\u001b[0;32m~/anaconda3/envs/pyFOAM/lib/python3.6/urllib/request.py\u001b[0m in \u001b[0;36m_open\u001b[0;34m(self, req, data)\u001b[0m\n\u001b[1;32m    542\u001b[0m         \u001b[0mprotocol\u001b[0m \u001b[0;34m=\u001b[0m \u001b[0mreq\u001b[0m\u001b[0;34m.\u001b[0m\u001b[0mtype\u001b[0m\u001b[0;34m\u001b[0m\u001b[0m\n\u001b[1;32m    543\u001b[0m         result = self._call_chain(self.handle_open, protocol, protocol +\n\u001b[0;32m--> 544\u001b[0;31m                                   '_open', req)\n\u001b[0m\u001b[1;32m    545\u001b[0m         \u001b[0;32mif\u001b[0m \u001b[0mresult\u001b[0m\u001b[0;34m:\u001b[0m\u001b[0;34m\u001b[0m\u001b[0m\n\u001b[1;32m    546\u001b[0m             \u001b[0;32mreturn\u001b[0m \u001b[0mresult\u001b[0m\u001b[0;34m\u001b[0m\u001b[0m\n",
      "\u001b[0;32m~/anaconda3/envs/pyFOAM/lib/python3.6/urllib/request.py\u001b[0m in \u001b[0;36m_call_chain\u001b[0;34m(self, chain, kind, meth_name, *args)\u001b[0m\n\u001b[1;32m    502\u001b[0m         \u001b[0;32mfor\u001b[0m \u001b[0mhandler\u001b[0m \u001b[0;32min\u001b[0m \u001b[0mhandlers\u001b[0m\u001b[0;34m:\u001b[0m\u001b[0;34m\u001b[0m\u001b[0m\n\u001b[1;32m    503\u001b[0m             \u001b[0mfunc\u001b[0m \u001b[0;34m=\u001b[0m \u001b[0mgetattr\u001b[0m\u001b[0;34m(\u001b[0m\u001b[0mhandler\u001b[0m\u001b[0;34m,\u001b[0m \u001b[0mmeth_name\u001b[0m\u001b[0;34m)\u001b[0m\u001b[0;34m\u001b[0m\u001b[0m\n\u001b[0;32m--> 504\u001b[0;31m             \u001b[0mresult\u001b[0m \u001b[0;34m=\u001b[0m \u001b[0mfunc\u001b[0m\u001b[0;34m(\u001b[0m\u001b[0;34m*\u001b[0m\u001b[0margs\u001b[0m\u001b[0;34m)\u001b[0m\u001b[0;34m\u001b[0m\u001b[0m\n\u001b[0m\u001b[1;32m    505\u001b[0m             \u001b[0;32mif\u001b[0m \u001b[0mresult\u001b[0m \u001b[0;32mis\u001b[0m \u001b[0;32mnot\u001b[0m \u001b[0;32mNone\u001b[0m\u001b[0;34m:\u001b[0m\u001b[0;34m\u001b[0m\u001b[0m\n\u001b[1;32m    506\u001b[0m                 \u001b[0;32mreturn\u001b[0m \u001b[0mresult\u001b[0m\u001b[0;34m\u001b[0m\u001b[0m\n",
      "\u001b[0;32m~/anaconda3/envs/pyFOAM/lib/python3.6/urllib/request.py\u001b[0m in \u001b[0;36mhttps_open\u001b[0;34m(self, req)\u001b[0m\n\u001b[1;32m   1359\u001b[0m         \u001b[0;32mdef\u001b[0m \u001b[0mhttps_open\u001b[0m\u001b[0;34m(\u001b[0m\u001b[0mself\u001b[0m\u001b[0;34m,\u001b[0m \u001b[0mreq\u001b[0m\u001b[0;34m)\u001b[0m\u001b[0;34m:\u001b[0m\u001b[0;34m\u001b[0m\u001b[0m\n\u001b[1;32m   1360\u001b[0m             return self.do_open(http.client.HTTPSConnection, req,\n\u001b[0;32m-> 1361\u001b[0;31m                 context=self._context, check_hostname=self._check_hostname)\n\u001b[0m\u001b[1;32m   1362\u001b[0m \u001b[0;34m\u001b[0m\u001b[0m\n\u001b[1;32m   1363\u001b[0m         \u001b[0mhttps_request\u001b[0m \u001b[0;34m=\u001b[0m \u001b[0mAbstractHTTPHandler\u001b[0m\u001b[0;34m.\u001b[0m\u001b[0mdo_request_\u001b[0m\u001b[0;34m\u001b[0m\u001b[0m\n",
      "\u001b[0;32m~/anaconda3/envs/pyFOAM/lib/python3.6/urllib/request.py\u001b[0m in \u001b[0;36mdo_open\u001b[0;34m(self, http_class, req, **http_conn_args)\u001b[0m\n\u001b[1;32m   1318\u001b[0m                           encode_chunked=req.has_header('Transfer-encoding'))\n\u001b[1;32m   1319\u001b[0m             \u001b[0;32mexcept\u001b[0m \u001b[0mOSError\u001b[0m \u001b[0;32mas\u001b[0m \u001b[0merr\u001b[0m\u001b[0;34m:\u001b[0m \u001b[0;31m# timeout error\u001b[0m\u001b[0;34m\u001b[0m\u001b[0m\n\u001b[0;32m-> 1320\u001b[0;31m                 \u001b[0;32mraise\u001b[0m \u001b[0mURLError\u001b[0m\u001b[0;34m(\u001b[0m\u001b[0merr\u001b[0m\u001b[0;34m)\u001b[0m\u001b[0;34m\u001b[0m\u001b[0m\n\u001b[0m\u001b[1;32m   1321\u001b[0m             \u001b[0mr\u001b[0m \u001b[0;34m=\u001b[0m \u001b[0mh\u001b[0m\u001b[0;34m.\u001b[0m\u001b[0mgetresponse\u001b[0m\u001b[0;34m(\u001b[0m\u001b[0;34m)\u001b[0m\u001b[0;34m\u001b[0m\u001b[0m\n\u001b[1;32m   1322\u001b[0m         \u001b[0;32mexcept\u001b[0m\u001b[0;34m:\u001b[0m\u001b[0;34m\u001b[0m\u001b[0m\n",
      "\u001b[0;31mURLError\u001b[0m: <urlopen error [Errno -3] Temporary failure in name resolution>"
     ]
    }
   ],
   "source": [
    "url = \"https://zenodo.org/record/3551928/files/dataRaw.csv\"\n",
    "dataDF = pd.read_csv(url)    # read DOE"
   ]
  },
  {
   "cell_type": "markdown",
   "metadata": {},
   "source": [
    "## Raw data"
   ]
  },
  {
   "cell_type": "markdown",
   "metadata": {
    "ExecuteTime": {
     "end_time": "2020-05-29T12:16:37.258935Z",
     "start_time": "2020-05-29T12:16:37.250220Z"
    }
   },
   "source": [
    "The main focus of the experiments was to capture the evolution of the electric potential over the ED stack "
   ]
  },
  {
   "cell_type": "markdown",
   "metadata": {},
   "source": [
    "### Electric potential "
   ]
  },
  {
   "cell_type": "markdown",
   "metadata": {},
   "source": [
    "This code plots the evolution of the electric potential for all experimental conditions"
   ]
  },
  {
   "cell_type": "code",
   "execution_count": null,
   "metadata": {
    "ExecuteTime": {
     "end_time": "2020-05-29T12:34:48.849698Z",
     "start_time": "2020-05-29T12:34:48.315Z"
    }
   },
   "outputs": [],
   "source": [
    "import itertools           \n",
    "cmap=\"Greens\"                         # color map\n",
    "sns.set(style=\"ticks\",font_scale=1.1) # Set tick style"
   ]
  },
  {
   "cell_type": "code",
   "execution_count": null,
   "metadata": {
    "ExecuteTime": {
     "end_time": "2020-05-29T12:34:48.850702Z",
     "start_time": "2020-05-29T12:34:48.317Z"
    }
   },
   "outputs": [],
   "source": [
    "dataDF = dataDF[dataDF['Ustack']<=13.9] # Clipping fouling curves"
   ]
  },
  {
   "cell_type": "code",
   "execution_count": null,
   "metadata": {
    "ExecuteTime": {
     "end_time": "2020-05-29T12:34:48.851758Z",
     "start_time": "2020-05-29T12:34:48.319Z"
    },
    "scrolled": false
   },
   "outputs": [],
   "source": [
    "f, axes = plt.subplots(4,2,figsize=(16, 18))\n",
    "# 0.1M NaCl & 3.5\n",
    "\n",
    "sliceDF = dataDF[(dataDF[\"Ce\"]==0.1) & (dataDF[\"v\"]==3.5)]\n",
    "Is = sliceDF[sliceDF[\"I\"]>0][\"I\"].unique()\n",
    "\n",
    "palette = itertools.cycle(sns.color_palette(cmap, n_colors=len(Is)+1))\n",
    "next(palette); # Remove lightest color \n",
    "\n",
    "for I in Is:\n",
    "    tempDF = sliceDF[sliceDF[\"I\"]==I]\n",
    "    sns.scatterplot(x=\"Time per cicle (h)\", y=\"Ustack\", data=tempDF, ax=axes[0,0],\n",
    "                        linewidth=0, s=40, color=next(palette), label=I)\n",
    "    axes[0,0].set_xlim((0,2.0))\n",
    "    axes[0,0].set_ylim((3,15))\n",
    "    axes[0,0].legend(title=\"Current (A)\", loc=1, fontsize='small')\n",
    "    axes[0,0].set_ylabel(\"Electric potential (V)\")\n",
    "    axes[0,0].set_xlabel(\"Time (h)\")\n",
    "\n",
    "# 0.1M NaCl & 3.0\n",
    "sliceDF = dataDF[(dataDF[\"Ce\"]==0.1) & (dataDF[\"v\"]==3.0)]\n",
    "Is = sliceDF[sliceDF[\"I\"]>0][\"I\"].unique()\n",
    "\n",
    "palette = itertools.cycle(sns.color_palette(cmap, n_colors=len(Is)+1))\n",
    "next(palette); # Remove lightest color \n",
    "\n",
    "for I in Is:\n",
    "    tempDF = sliceDF[sliceDF[\"I\"]==I]\n",
    "    sns.scatterplot(x=\"Time per cicle (h)\", y=\"Ustack\", data=tempDF, ax=axes[1,0],\n",
    "                        linewidth=0, s=40, color=next(palette), label=I)\n",
    "    axes[1,0].set_xlim((0,2.0))\n",
    "    axes[1,0].set_ylim((3,15))\n",
    "    axes[1,0].legend(title=\"Current (A)\", loc=1, fontsize='small')\n",
    "    axes[1,0].set_ylabel(\"Electric potential (V)\")\n",
    "    axes[1,0].set_xlabel(\"Time (h)\")\n",
    "\n",
    "    \n",
    "# 0.1M NaCl & 2.5\n",
    "sliceDF = dataDF[(dataDF[\"Ce\"]==0.1) & (dataDF[\"v\"]==2.5)]\n",
    "Is = sliceDF[sliceDF[\"I\"]>0][\"I\"].unique()\n",
    "\n",
    "next(palette)\n",
    "for I in Is:\n",
    "    tempDF = sliceDF[sliceDF[\"I\"]==I]\n",
    "    sns.scatterplot(x=\"Time per cicle (h)\", y=\"Ustack\", data=tempDF, ax=axes[2,0],\n",
    "                        linewidth=0, s=40, color=next(palette), label=I)\n",
    "    axes[2,0].set_xlim((0,2.0))\n",
    "    axes[2,0].set_ylim((3,15))\n",
    "    axes[2,0].legend(title=\"Current (A)\", loc=1, fontsize='small')\n",
    "    axes[2,0].set_ylabel(\"Electric potential (V)\")\n",
    "    axes[2,0].set_xlabel(\"Time (h)\")\n",
    "  \n",
    " \n",
    "# 0.2M NaCl & 3.5\n",
    "sliceDF = dataDF[(dataDF[\"Ce\"]==0.2) & (dataDF[\"v\"]==3.0)]\n",
    "Is = sliceDF[sliceDF[\"I\"]>0][\"I\"].unique()\n",
    "\n",
    "palette = itertools.cycle(sns.color_palette(cmap, n_colors=len(Is)+1))\n",
    "next(palette);\n",
    "for I in Is:\n",
    "    tempDF = sliceDF[sliceDF[\"I\"]==I]\n",
    "    sns.scatterplot(x=\"Time per cicle (h)\", y=\"Ustack\", data=tempDF, ax=axes[1,1],\n",
    "                        linewidth=0, s=40, color=next(palette), label=I)\n",
    "    axes[1,1].set_xlim((0,2.0))\n",
    "    axes[1,1].set_ylim((3,15))\n",
    "    axes[1,1].legend(title=\"Current (A)\", loc=1, fontsize='small')\n",
    "    axes[1,1].set_ylabel(\"Electric potential (V)\")\n",
    "    axes[1,1].set_xlabel(\"Time (h)\")\n",
    "\n",
    "# 0.1M NaCl & 3.0\n",
    "sliceDF = dataDF[(dataDF[\"Ce\"]==0.2) & (dataDF[\"v\"]==2.5)]\n",
    "Is = sliceDF[sliceDF[\"I\"]>0][\"I\"].unique()\n",
    "\n",
    "palette = itertools.cycle(sns.color_palette(cmap, n_colors=len(Is)+1))\n",
    "next(palette);\n",
    "for I in Is:\n",
    "    tempDF = sliceDF[sliceDF[\"I\"]==I]\n",
    "    sns.scatterplot(x=\"Time per cicle (h)\", y=\"Ustack\", data=tempDF, ax=axes[2,1],\n",
    "                        linewidth=0, s=40, color=next(palette), label=I)\n",
    "    axes[2,1].set_xlim((0,2.0))\n",
    "    axes[2,1].set_ylim((3,15))\n",
    "    axes[2,1].legend(title=\"Current (A)\", loc=1, fontsize='small')\n",
    "    axes[2,1].set_ylabel(\"Electric potential (V)\")\n",
    "    axes[2,1].set_xlabel(\"Time (h)\")\n",
    "    \n",
    "# 0.1M NaCl & 2.5\n",
    "sliceDF = dataDF[(dataDF[\"Ce\"]==0.2) & (dataDF[\"v\"]==2.0)]\n",
    "Is = sliceDF[sliceDF[\"I\"]>0][\"I\"].unique()\n",
    "\n",
    "next(palette)\n",
    "\n",
    "for I in Is:\n",
    "    tempDF = sliceDF[sliceDF[\"I\"]==I]\n",
    "    sns.scatterplot(x=\"Time per cicle (h)\", y=\"Ustack\", data=tempDF, ax=axes[3,1],\n",
    "                        linewidth=0, s=40, color=next(palette), label=I)\n",
    "    axes[3,1].set_xlim((0,2.0))\n",
    "    axes[3,1].set_ylim((3,15))\n",
    "    axes[3,1].legend(title=\"Current (A)\", loc=1, fontsize='small')\n",
    "    axes[3,1].set_ylabel(\"Electric potential (V)\")\n",
    "    axes[3,1].set_xlabel(\"Time (h)\")\n",
    "\n",
    "    \n",
    "axes[3,0].axis('off')\n",
    "axes[0,1].axis('off')\n",
    "\n",
    "\n",
    "name = 'dataOverview'\n",
    "f.savefig(figPath + name + '.svg')\n",
    "f.savefig(figPath + name + '.pdf')\n",
    "f.savefig(figPath + name + '.png', dpi = 300)\n",
    "plt.show()"
   ]
  },
  {
   "cell_type": "markdown",
   "metadata": {},
   "source": [
    "### Other sensor data\n",
    "Next to the stack potential, the temperature, pH, flow rate, conductivity, pressure and electric potential are measured at several locations in the pilot installation, a detailed overview of the sensor locations is shown in the figure below.\n",
    "\n",
    "<img src=\"figs/PID.jpg\" width = 60%>\n",
    "\n",
    "Details of the sensors used is provided in the table below.\n",
    "\n",
    "| Parameter | Identifiers |\tManufacturer | Unit |\n",
    "| --------- | ----------  | -----------  | -----|\n",
    "| Electric potential \t| EPx\t  | M 3000 - Delta electronika, the Netherlands\t  | (V) |\n",
    "| Conductivity\t      | COx\t  | Indumax CLS50D - Endress + Hauser, USA\t  | (mS/cm) |\n",
    "| Temperature\t        | TITx\t| Indumax CLS50D - Endress + Hauser, USA\t  | (°C) |\n",
    "| pH\t                | PHx\t  | Orbisint CPS11D - Endress + Hauser, USA\t  | (-) |\n",
    "| Flowrate\t          | FITx\t| Promag 55S DN15 - Endress + Hauser, USA\t  | (l/h) |\n",
    "| Pressure\t          | PITx\t| Cerabar MPMC51 – Endress + Hauser, USA\t  | (bar) |\n"
   ]
  },
  {
   "cell_type": "markdown",
   "metadata": {},
   "source": [
    "A subset of the data is illustrated below, where three reversal cycles are displayed at an increasing current and the some of the sensors mentioned previously are plotted. "
   ]
  },
  {
   "cell_type": "code",
   "execution_count": null,
   "metadata": {
    "ExecuteTime": {
     "end_time": "2020-05-29T12:34:48.852854Z",
     "start_time": "2020-05-29T12:34:48.340Z"
    }
   },
   "outputs": [],
   "source": [
    "import warnings   # sneaky ignore of my bad Pandas skills\n",
    "warnings.filterwarnings(\"ignore\") "
   ]
  },
  {
   "cell_type": "code",
   "execution_count": null,
   "metadata": {
    "ExecuteTime": {
     "end_time": "2020-05-29T12:34:48.854224Z",
     "start_time": "2020-05-29T12:34:48.344Z"
    },
    "scrolled": false
   },
   "outputs": [],
   "source": [
    "dataDF = dataDF.loc[dataDF[\"I\"]>0.2]\n",
    "sliceDF = dataDF.loc[(dataDF[\"Ce\"]==0.1) & (dataDF[\"v\"]==3.5)]\n",
    "\n",
    "f, axes = plt.subplots(3,2,figsize=(14, 16))\n",
    "sns.scatterplot(x=\"Time (h)\", y=\"I\", data=sliceDF, ax=axes[0,0],linewidth=0, s=20)\n",
    "axes[0,0].set_xlim((0,6))\n",
    "axes[0,0].set_ylim((0,2.0))\n",
    "axes[0,0].set(ylabel='Current (A)')\n",
    "axes[0,0].set_xticks(np.arange(0,60)/10, minor=True);\n",
    "\n",
    "sns.scatterplot(x=\"Time (h)\", y=\"Rlinear\", data=sliceDF, ax=axes[0,1],linewidth=0, s=20)\n",
    "axes[0,1].set_xlim((0,6))\n",
    "axes[0,1].set_ylim((3,11))\n",
    "axes[0,1].set(ylabel='Stack resistance (Ohm)')\n",
    "axes[0,1].set_xticks(np.arange(0,60)/10, minor=True);\n",
    "\n",
    "sns.scatterplot(x=\"Time (h)\", y=\"PH1\", data=sliceDF, ax=axes[1,0], label=r\"pH diluate & concentrate\",linewidth=0, s=20)\n",
    "sns.scatterplot(x=\"Time (h)\", y=\"PH3\", data=sliceDF, ax=axes[1,0], label=r\"pH electrode rinse\",linewidth=0, s=20)\n",
    "axes[1,0].set_xlim((0,6))\n",
    "axes[1,0].set_ylim((8.6,9.2))\n",
    "axes[1,0].set(ylabel='pH (-)')\n",
    "axes[1,0].set_xticks(np.arange(0,60)/10, minor=True);\n",
    "lgnd = axes[1,0].legend()\n",
    "lgnd.legendHandles[0]._sizes = [60]\n",
    "lgnd.legendHandles[1]._sizes = [60]\n",
    "\n",
    "sliceDF[\"CO1RA\"] = sliceDF[\"CO1\"].rolling(window=10, center = False).mean().copy()\n",
    "sliceDF[\"CO2RA\"] = sliceDF[\"CO2\"].rolling(window=10, center = False).mean().copy()\n",
    "sns.scatterplot(x=\"Time (h)\", y=\"CO1RA\", data=sliceDF, ax=axes[1,1], label=r\"CO1 (Diluate out) \",linewidth=0, s=20)\n",
    "sns.scatterplot(x=\"Time (h)\", y=\"CO2RA\", data=sliceDF, ax=axes[1,1], label=r\"CO2 (Concentrate out) \",linewidth=0, s=20)\n",
    "axes[1,1].set_xlim((0,6.0))\n",
    "axes[1,1].set_ylim((10,11.5))\n",
    "lgnd = axes[1,1].legend()\n",
    "lgnd.legendHandles[0]._sizes = [60]\n",
    "lgnd.legendHandles[1]._sizes = [60]\n",
    "\n",
    "axes[1,1].set(ylabel='conductivity (mS/cm)')\n",
    "axes[1,1].set_xticks(np.arange(0,60)/10, minor=True);\n",
    "\n",
    "sns.scatterplot(x=\"Time (h)\", y=\"TIT1\", data=sliceDF, ax=axes[2,0], label=r\"TIT1 (Diluate)\",linewidth=0, s=20)\n",
    "sns.scatterplot(x=\"Time (h)\", y=\"TIT2\", data=sliceDF, ax=axes[2,0], label=r\"TIT2 (Concentrate)\",linewidth=0, s=20)\n",
    "sns.scatterplot(x=\"Time (h)\", y=\"TIT2\", data=sliceDF, ax=axes[2,0], label=r\"TIT3 (Electrode rinse)\",linewidth=0, s=20)\n",
    "axes[2,0].set_xlim((0,6))\n",
    "axes[2,0].set(ylabel='Temperature (°C)')\n",
    "axes[2,0].set_xticks(np.arange(0,60)/10, minor=True);\n",
    "lgnd = axes[2,0].legend()\n",
    "lgnd.legendHandles[0]._sizes = [60]\n",
    "lgnd.legendHandles[1]._sizes = [60]\n",
    "lgnd.legendHandles[2]._sizes = [60]\n",
    "\n",
    "axes[2,1].axis('off')\n",
    "\n",
    "# Saving figures\n",
    "name = 'sensorOverview2'\n",
    "f.savefig(figPath + name + '.svg')\n",
    "f.savefig(figPath + name + '.pdf')\n",
    "f.savefig(figPath + name + '.png', dpi = 300)"
   ]
  },
  {
   "cell_type": "markdown",
   "metadata": {},
   "source": [
    "## Data processing and filtering"
   ]
  },
  {
   "cell_type": "markdown",
   "metadata": {},
   "source": [
    "The data processing and filtering is done in a few steps,"
   ]
  },
  {
   "cell_type": "markdown",
   "metadata": {},
   "source": [
    "1. Smooth (simple moving average)\n",
    "2. Resample so that each curve has the same number of time points and to reduce the size of the dataset\n",
    "2. Rename columns to simple names"
   ]
  },
  {
   "cell_type": "markdown",
   "metadata": {},
   "source": [
    "**Function definitions**"
   ]
  },
  {
   "cell_type": "code",
   "execution_count": null,
   "metadata": {
    "ExecuteTime": {
     "end_time": "2020-05-29T12:34:48.855334Z",
     "start_time": "2020-05-29T12:34:48.379Z"
    }
   },
   "outputs": [],
   "source": [
    "def balanceDatapoints(df,nPoints):\n",
    "    \"\"\"Resamples the dataframe to spread nPoints over the entire timeseries\"\"\"\n",
    "    newPoints = np.linspace(0,len(df)-1,nPoints)\n",
    "    newPoints = [int(newPoint) for newPoint in newPoints]\n",
    "    return df.iloc[newPoints, :]"
   ]
  },
  {
   "cell_type": "code",
   "execution_count": null,
   "metadata": {
    "ExecuteTime": {
     "end_time": "2020-05-29T12:34:48.856447Z",
     "start_time": "2020-05-29T12:34:48.381Z"
    }
   },
   "outputs": [],
   "source": [
    "smoothWindow = 10 # window size for smoother\n",
    "nPoints = 20      # number of datapoints retained for each timeseries\n",
    "listDF = []       # dataFrame list"
   ]
  },
  {
   "cell_type": "code",
   "execution_count": null,
   "metadata": {
    "ExecuteTime": {
     "end_time": "2020-05-29T12:34:48.857538Z",
     "start_time": "2020-05-29T12:34:48.383Z"
    }
   },
   "outputs": [],
   "source": [
    "expTriggers = dataDF[dataDF[\"Time per step (min)\"]<1e-9].index\n",
    "\n",
    "for index,expTrigger in enumerate(expTriggers[1:-1]):\n",
    "    df = dataDF.loc[expTriggers[index-1]:expTriggers[index]]\n",
    "\n",
    "    if (len(df)-smoothWindow) > nPoints:                \n",
    "        df = df.rolling(smoothWindow, center=False).mean().dropna()  # smooth\n",
    "        \n",
    "    if len(df)>= nPoints:                               # if there are more not enough points redistribution\n",
    "        df = balanceDatapoints(df,nPoints)             # redistribute nPoints\n",
    "    \n",
    "    listDF += [df]\n",
    "    \n",
    "# add final experiments\n",
    "df = dataDF.loc[expTriggers[-1]::]\n",
    "if (len(df)-smoothWindow) > nPoints:                # if there are more not enough points skip smoothing\n",
    "    df = df.rolling(smoothWindow).mean().dropna()   # smooth\n",
    "\n",
    "if len(df)>= nPoints:                               # if there are more not enough points redistribution\n",
    "     df = balanceDatapoints(df,nPoints)             # redistribute nPoints\n",
    "\n",
    "listDF += [df]\n",
    "\n",
    "dataDFNew = pd.concat(listDF)\n",
    "dataDFNew[[\"Ce\",\"I\",\"v\"]] = dataDF.loc[dataDFNew.index][[\"Ce\",\"I\",\"v\"]]  #restore input values"
   ]
  },
  {
   "cell_type": "code",
   "execution_count": null,
   "metadata": {
    "ExecuteTime": {
     "end_time": "2020-05-29T12:34:48.860078Z",
     "start_time": "2020-05-29T12:34:48.385Z"
    },
    "scrolled": false
   },
   "outputs": [],
   "source": [
    "sliceDF = dataDF[(dataDF[\"Ce\"]==0.2) & (dataDF[\"v\"]==3.0) & (dataDF[\"I\"]==1.41) ] \n",
    "sliceDFProcessed = dataDFNew[(dataDFNew[\"Ce\"]==0.2) & (dataDFNew[\"v\"]==3.0)& (dataDFNew[\"I\"]==1.41)]\n",
    "\n",
    "f, ax = plt.subplots(figsize=(9, 7))\n",
    "sns.scatterplot(x=\"Time (h)\", y=\"Ustack\", data=sliceDF, ax=ax,linewidth=0, \n",
    "                s=40, color=\"black\", alpha = 0.1, label=\"Raw data\")\n",
    "sns.scatterplot(x=\"Time (h)\", y=\"Ustack\", data=sliceDFProcessed, ax=ax,linewidth=0, \n",
    "                s=60, label=\"Processed data\")\n",
    "\n",
    "ax.set_ylim([5,6])\n",
    "ax.set_xlim([0,2])\n",
    "ax.set(ylabel='Stack voltage (V)')\n",
    "ax.set_xticks(np.arange(0,20)/10, minor=True);\n",
    "ax.legend()"
   ]
  },
  {
   "cell_type": "markdown",
   "metadata": {},
   "source": [
    "## References"
   ]
  },
  {
   "cell_type": "markdown",
   "metadata": {
    "ExecuteTime": {
     "end_time": "2019-12-03T13:22:49.008618Z",
     "start_time": "2019-12-03T13:22:49.000081Z"
    }
   },
   "source": [
    "[1]  De Jaegher B., De Schepper W., Verliefde A., Nopens I., C, Colloidal fouling in electrodialysis: a neural differential equations model, Desalination, In Press."
   ]
  }
 ],
 "metadata": {
  "@webio": {
   "lastCommId": null,
   "lastKernelId": null
  },
  "hide_input": false,
  "kernelspec": {
   "display_name": "Python [default]",
   "language": "python",
   "name": "python3"
  },
  "language_info": {
   "codemirror_mode": {
    "name": "ipython",
    "version": 3
   },
   "file_extension": ".py",
   "mimetype": "text/x-python",
   "name": "python",
   "nbconvert_exporter": "python",
   "pygments_lexer": "ipython3",
   "version": "3.6.4"
  },
  "latex_envs": {
   "LaTeX_envs_menu_present": true,
   "autoclose": false,
   "autocomplete": true,
   "bibliofile": "biblio.bib",
   "cite_by": "apalike",
   "current_citInitial": 1,
   "eqLabelWithNumbers": true,
   "eqNumInitial": 1,
   "hotkeys": {
    "equation": "Ctrl-E",
    "itemize": "Ctrl-I"
   },
   "labels_anchors": false,
   "latex_user_defs": false,
   "report_style_numbering": false,
   "user_envs_cfg": false
  }
 },
 "nbformat": 4,
 "nbformat_minor": 2
}
